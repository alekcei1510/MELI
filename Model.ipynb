{
 "cells": [
  {
   "cell_type": "code",
   "execution_count": 362,
   "metadata": {},
   "outputs": [],
   "source": [
    "# Libraries \n",
    "import requests as r \n",
    "import pandas as pd \n",
    "import warnings\n",
    "import random as rd \n",
    "import numpy as np \n",
    "from sklearn.model_selection import StratifiedKFold\n",
    "from datetime import datetime \n",
    "import matplotlib.pyplot as plt \n",
    "import pytz\n",
    "from datetime import datetime\n",
    "from sklearn.model_selection import train_test_split\n",
    "from sklearn.linear_model import LinearRegression\n",
    "from sklearn.metrics import mean_absolute_error, mean_squared_error, r2_score\n",
    "from sklearn.impute import SimpleImputer\n",
    "from scipy import stats \n",
    "from sklearn.preprocessing import PolynomialFeatures\n",
    "from sklearn.ensemble import RandomForestRegressor, GradientBoostingRegressor\n",
    "import statsmodels.stats as stm\n",
    "warnings.filterwarnings('ignore')\n",
    "\n",
    "\n",
    "now = datetime.utcnow().replace(tzinfo=pytz.utc)\n",
    "rd.seed(42)"
   ]
  },
  {
   "cell_type": "code",
   "execution_count": 2,
   "metadata": {},
   "outputs": [],
   "source": [
    "# Links for MELI \n",
    "base_url = 'https://api.mercadolibre.com/'\n",
    "\n",
    "\n",
    "# Categories for Colombia\n",
    "response = r.get(base_url + '/sites/MCO/categories')\n",
    "categories = response.json()"
   ]
  },
  {
   "cell_type": "code",
   "execution_count": 3,
   "metadata": {},
   "outputs": [
    {
     "name": "stdout",
     "output_type": "stream",
     "text": [
      "Scanning.... 0.0%\n",
      "Scanning.... 3.2%\n",
      "Scanning.... 6.5%\n",
      "Scanning.... 9.7%\n",
      "Scanning.... 12.9%\n",
      "Scanning.... 16.1%\n",
      "Scanning.... 19.4%\n",
      "Scanning.... 22.6%\n",
      "Scanning.... 25.8%\n",
      "Scanning.... 29.0%\n",
      "Scanning.... 32.3%\n",
      "Scanning.... 35.5%\n",
      "Scanning.... 38.7%\n",
      "Scanning.... 41.9%\n",
      "Scanning.... 45.2%\n",
      "Scanning.... 48.4%\n",
      "Scanning.... 51.6%\n",
      "Scanning.... 54.8%\n",
      "Scanning.... 58.1%\n",
      "Scanning.... 61.3%\n",
      "Scanning.... 64.5%\n",
      "Scanning.... 67.7%\n",
      "Scanning.... 71.0%\n",
      "Scanning.... 74.2%\n",
      "Scanning.... 77.4%\n",
      "Scanning.... 80.6%\n",
      "Scanning.... 83.9%\n",
      "Scanning.... 87.1%\n",
      "Scanning.... 90.3%\n",
      "Scanning.... 93.5%\n",
      "Scanning.... 96.8%\n",
      "Done :)\n"
     ]
    }
   ],
   "source": [
    "# Scan each category with 100 products each\n",
    "number_products = 100\n",
    "\n",
    "\n",
    "offset_range = range(0, number_products, 50)\n",
    "\n",
    "meli_products = []\n",
    "for i, item in enumerate(categories): \n",
    "    items_category = []\n",
    "    for offset in offset_range: \n",
    "        category_id = item.get(\"id\", None)\n",
    "        response = r.get(base_url + 'sites/MCO/search?category=%s&offset=%s' % (category_id, offset) )\n",
    "        result = response.json()\n",
    "        products_category = pd.DataFrame(result['results'])\n",
    "        items_category.append(products_category)\n",
    "    \n",
    "    df_category = pd.concat(items_category)\n",
    "    df_category['category_name'] = item['name']\n",
    "    df_category['category_id'] = category_id\n",
    "        \n",
    "    meli_products.append(df_category)\n",
    "    \n",
    "    print(\"Scanning.... %.1f%%\" % (i/len(categories)*100))\n",
    "print(\"Done :)\")"
   ]
  },
  {
   "cell_type": "code",
   "execution_count": 4,
   "metadata": {},
   "outputs": [
    {
     "name": "stdout",
     "output_type": "stream",
     "text": [
      "Scanning.... 0.0%\n",
      "Scanning.... 3.2%\n",
      "Scanning.... 6.5%\n",
      "Scanning.... 9.7%\n",
      "Scanning.... 12.9%\n",
      "Scanning.... 16.1%\n",
      "Scanning.... 19.4%\n",
      "Scanning.... 22.6%\n",
      "Scanning.... 25.8%\n",
      "Scanning.... 29.0%\n",
      "Scanning.... 32.3%\n",
      "Scanning.... 35.5%\n",
      "Scanning.... 38.7%\n",
      "Scanning.... 41.9%\n",
      "Scanning.... 45.2%\n",
      "Scanning.... 48.4%\n",
      "Scanning.... 51.6%\n",
      "Scanning.... 54.8%\n",
      "Scanning.... 58.1%\n",
      "Scanning.... 61.3%\n",
      "Scanning.... 64.5%\n",
      "Scanning.... 67.7%\n",
      "Scanning.... 71.0%\n",
      "Scanning.... 74.2%\n",
      "Scanning.... 77.4%\n",
      "Scanning.... 80.6%\n",
      "Scanning.... 83.9%\n",
      "Scanning.... 87.1%\n",
      "Scanning.... 90.3%\n",
      "Scanning.... 93.5%\n",
      "Scanning.... 96.8%\n",
      "Done :)\n"
     ]
    }
   ],
   "source": [
    "# Scan each category with 100 products each\n",
    "\n",
    "offset_range = range(0, 100, 50)\n",
    "\n",
    "meli_products = []\n",
    "for i, item in enumerate(categories): \n",
    "    items_category = []\n",
    "    for offset in offset_range: \n",
    "        category_id = item.get(\"id\", None)\n",
    "        response = r.get(base_url + 'sites/MCO/search?category=%s&offset=%s' % (category_id, offset) )\n",
    "        result = response.json()\n",
    "        products_category = pd.DataFrame(result['results'])\n",
    "        items_category.append(products_category)\n",
    "    \n",
    "    df_category = pd.concat(items_category)\n",
    "    df_category['category_name'] = item['name']\n",
    "    df_category['category_id'] = category_id\n",
    "        \n",
    "    meli_products.append(df_category)\n",
    "    \n",
    "    print(\"Scanning.... %.1f%%\" % (i/len(categories)*100))\n",
    "print(\"Done :)\")"
   ]
  },
  {
   "cell_type": "code",
   "execution_count": 5,
   "metadata": {},
   "outputs": [
    {
     "name": "stdout",
     "output_type": "stream",
     "text": [
      "Scanning.... 0.0%\n",
      "Scanning.... 3.2%\n",
      "Scanning.... 6.5%\n",
      "Scanning.... 9.7%\n",
      "Scanning.... 12.9%\n",
      "Scanning.... 16.1%\n",
      "Scanning.... 19.4%\n",
      "Scanning.... 22.6%\n",
      "Scanning.... 25.8%\n",
      "Scanning.... 29.1%\n",
      "Scanning.... 32.3%\n",
      "Scanning.... 35.5%\n",
      "Scanning.... 38.7%\n",
      "Scanning.... 42.0%\n",
      "Scanning.... 45.2%\n",
      "Scanning.... 48.4%\n",
      "Scanning.... 51.6%\n",
      "Scanning.... 54.9%\n",
      "Scanning.... 58.1%\n",
      "Scanning.... 61.3%\n",
      "Scanning.... 64.6%\n",
      "Scanning.... 67.8%\n",
      "Scanning.... 71.0%\n",
      "Scanning.... 74.2%\n",
      "Scanning.... 77.5%\n",
      "Scanning.... 80.7%\n",
      "Scanning.... 83.9%\n",
      "Scanning.... 87.2%\n",
      "Scanning.... 90.4%\n",
      "Scanning.... 93.6%\n",
      "Scanning.... 96.8%\n",
      "Done :)\n"
     ]
    }
   ],
   "source": [
    "# Get more details about the products \n",
    "\n",
    "# Initialize other variables of the data set with details of each one\n",
    "df = pd.concat(meli_products)\n",
    "df['start_date'] = np.nan\n",
    "df['health'] = np.nan\n",
    "df['sale_terms'] = np.nan\n",
    "df['initial_quantity'] = np.nan\n",
    "df['buying_mode'] = np.nan\n",
    "\n",
    "# Call the API for details about the product\n",
    "for i, item in enumerate(df.itertuples()): \n",
    "    response = r.get(base_url + 'items/%s' % item.id)\n",
    "    item_details = response.json()\n",
    "    df.loc[item.Index ,'start_date'] = item_details['date_created']\n",
    "    df.loc[item.Index ,'health'] = item_details['health']\n",
    "    df.loc[item.Index ,'initial_quantity'] = item_details['initial_quantity']\n",
    "    df.loc[item.Index ,'buying_mode'] = item_details['buying_mode']\n",
    "    \n",
    "    if len(item_details['sale_terms']):\n",
    "        for sub_item in item_details['sale_terms']: \n",
    "            if sub_item['id'] == 'WARRANTY_TIME': \n",
    "                df.loc[item.Index ,'sale_terms'] = sub_item['value_name']\n",
    "    if i % 100 == 0:\n",
    "        print(\"Scanning.... %.1f%%\" % (i/len(df)*100))\n",
    "print(\"Done :)\")\n",
    "\n",
    "# Process some features\n",
    "df['free_shipping'] = df['shipping'].apply(lambda x: x['free_shipping'])\n",
    "df['tags_len'] = df['tags'].apply(lambda x: len(x))\n",
    "df['start_date'] = pd.to_datetime(df['start_date'], utc=None)"
   ]
  },
  {
   "cell_type": "code",
   "execution_count": 124,
   "metadata": {},
   "outputs": [],
   "source": [
    "# Get items attributes\n",
    "def get_item_condition(x): \n",
    "    \"\"\n",
    "    item_condition = '-'\n",
    "    for item in x: \n",
    "        if item['id'] == 'ITEM_CONDITION': \n",
    "            item_condition= item['value_name']\n",
    "            break \n",
    "            \n",
    "    return item_condition\n",
    "            \n",
    "df['item_condition'] = df['attributes'].apply(get_item_condition)"
   ]
  },
  {
   "cell_type": "code",
   "execution_count": 323,
   "metadata": {},
   "outputs": [],
   "source": [
    "# First columns of interest\n",
    "columns_interest = ['price', 'sold_quantity', 'category_name', 'domain_id', \n",
    "                    'official_store_id', 'original_price', 'available_quantity', \n",
    "                    'accepts_mercadopago', 'start_date', 'health', 'sale_terms', \n",
    "                    'item_condition', 'free_shipping', 'tags_len', 'initial_quantity', \n",
    "                    'buying_mode']\n",
    "\n",
    "df_processed = df[columns_interest]\n",
    "price_plot = df_processed['price']\n",
    "df_target_plot = df_processed['sold_quantity']\n",
    "\n",
    "# Feature extraction\n",
    "df_processed['has_discount'] = df_processed['original_price'].fillna(0).astype(bool)\n",
    "df_processed['is_store'] = df_processed['official_store_id'].fillna(0).astype(bool)\n",
    "df_processed['item_condition'] = df_processed['item_condition'].astype('category').cat.codes\n",
    "df_processed['buying_mode'] = df_processed['buying_mode'].astype('category').cat.codes\n",
    "df_processed['sale_terms'] = df_processed['sale_terms'].astype('category').cat.codes\n",
    "df_processed['month'] = df_processed['start_date'].dt.month\n",
    "df_processed['year'] = df_processed['start_date'].dt.year\n",
    "df_processed['span_time'] = df_processed['start_date'].apply(lambda x: (now-x).days)\n",
    "df_processed['price_log'] = np.log(df_processed['price'].fillna(0)+1)\n",
    "\n",
    "df_target = df_processed['sold_quantity'].fillna(0)\n",
    "df_done = df_processed.drop(['domain_id', 'original_price', \n",
    "                             'start_date', 'sold_quantity',\n",
    "                            'category_name', 'item_condition', \n",
    "                             'buying_mode', 'official_store_id', 'price'], axis=1)\n",
    "\n",
    "df_dummy = pd.get_dummies(df_processed['category_name'])\n",
    "df_process = pd.concat([df_done, df_dummy], axis=1)\n",
    "assert df_process.isnull().sum().sum() == 0"
   ]
  },
  {
   "cell_type": "markdown",
   "metadata": {},
   "source": [
    "Uno de los supuestos de la regresión grandes es la homocedasticidad, por hacemos la transformación de logs para mejorar la s metricas del modelo. "
   ]
  },
  {
   "cell_type": "code",
   "execution_count": 324,
   "metadata": {},
   "outputs": [
    {
     "data": {
      "image/png": "[encoded data removed]",
      "text/plain": [
       "<Figure size 432x288 with 1 Axes>"
      ]
     },
     "metadata": {
      "needs_background": "light"
     },
     "output_type": "display_data"
    }
   ],
   "source": [
    "# Get the distribution of sold unities\n",
    "ax = df_target_plot.hist(bins=30)\n",
    "plt.title(\"Objetivo sin transformación\")\n",
    "plt.show()"
   ]
  },
  {
   "cell_type": "code",
   "execution_count": 341,
   "metadata": {},
   "outputs": [
    {
     "data": {
      "image/png": "[encoded data removed]",
      "text/plain": [
       "<Figure size 432x288 with 1 Axes>"
      ]
     },
     "metadata": {
      "needs_background": "light"
     },
     "output_type": "display_data"
    }
   ],
   "source": [
    "# Get the distribution of sold unities\n",
    "ax = pd.DataFrame(np.log(df_target_plot +1)).hist(bins=30)\n",
    "plt.title(\"Objetivo con transformación\")\n",
    "plt.show()"
   ]
  },
  {
   "cell_type": "code",
   "execution_count": 325,
   "metadata": {},
   "outputs": [
    {
     "name": "stdout",
     "output_type": "stream",
     "text": [
      "MAE predicting all like zeros :256.5161394448031\n",
      "MSE predicting all like zeros :348335.3308586185\n"
     ]
    }
   ],
   "source": [
    "y_test = np.zeros(len(df_target_plot))\n",
    "print(\"MAE predicting all like zeros :%s\" % mean_absolute_error(y_test, df_target_plot.fillna(0)))\n",
    "print(\"MSE predicting all like zeros :%s\" % mean_squared_error(y_test, df_target_plot.fillna(0)))"
   ]
  },
  {
   "cell_type": "code",
   "execution_count": 380,
   "metadata": {},
   "outputs": [],
   "source": [
    "# Function to train a model with kfold test\n",
    "    \n",
    "def train_models(model, X, y, model_name, polynomial=0, logs=False): \n",
    "    \n",
    "    if polynomial == 0:\n",
    "        pass\n",
    "    else:\n",
    "        pol = PolynomialFeatures(polynomial)\n",
    "        X = pol.fit_transform(X)\n",
    "        \n",
    "    if logs: \n",
    "        y = np.log(y+1)\n",
    "        x_train, x_test, y_train, y_test = train_test_split(X, y, test_size=0.3, random_state=42, shuffle=True)\n",
    "        model.fit(x_train, y_train)\n",
    "        y_predicted = np.exp(model.predict(x_test))\n",
    "        y_test = np.exp(y_test)\n",
    "    else: \n",
    "        x_train, x_test, y_train, y_test = train_test_split(X, y, test_size=0.3, random_state=42, shuffle=True)\n",
    "        model.fit(x_train, y_train)\n",
    "        y_predicted = model.predict(x_test)\n",
    "\n",
    "    print(\"%s MAE: %.1f\" % (model_name, mean_absolute_error(y_test, y_predicted)))\n",
    "    print(\"%s MSE: %.1f \\n\" % (model_name, mean_squared_error(y_test, y_predicted)))\n",
    "    \n",
    "    if model_name == 'Linear regressor': \n",
    "        print(\"%s R2: %.1f \\n\" % (model_name, r2_score(y_test, y_predicted)))\n",
    "        "
   ]
  },
  {
   "cell_type": "code",
   "execution_count": 381,
   "metadata": {},
   "outputs": [
    {
     "name": "stdout",
     "output_type": "stream",
     "text": [
      "RF regressor MAE: 175.5\n",
      "RF regressor MSE: 211598.1 \n",
      "\n",
      "Linear regressor MAE: 178.1\n",
      "Linear regressor MSE: 219594.6 \n",
      "\n",
      "Linear regressor R2: 0.2 \n",
      "\n",
      "Gradient Boosting... MAE: 176.9\n",
      "Gradient Boosting... MSE: 265278.1 \n",
      "\n"
     ]
    }
   ],
   "source": [
    "# Basic models on the first iteration\n",
    "# Models configuration\n",
    "lr = LinearRegression()\n",
    "regr = RandomForestRegressor(n_estimators=300,max_depth=3, random_state=42)\n",
    "gdbc = GradientBoostingRegressor(n_estimators=200, learning_rate=0.1, max_depth=4, random_state=42)\n",
    "\n",
    "train_models(regr, df_process, df_target, 'RF regressor')\n",
    "train_models(lr, df_process, df_target, 'Linear regressor')\n",
    "train_models(gdbc, df_process, df_target, 'Gradient Boosting...')"
   ]
  },
  {
   "cell_type": "code",
   "execution_count": 382,
   "metadata": {},
   "outputs": [
    {
     "name": "stdout",
     "output_type": "stream",
     "text": [
      "RF regressor MAE: 160.7\n",
      "RF regressor MSE: 243819.9 \n",
      "\n",
      "Linear regressor MAE: 148.2\n",
      "Linear regressor MSE: 244257.3 \n",
      "\n",
      "Linear regressor R2: 0.1 \n",
      "\n",
      "Gradient Boosting... MAE: 130.1\n",
      "Gradient Boosting... MSE: 213420.6 \n",
      "\n"
     ]
    }
   ],
   "source": [
    "# Basic models on the first iteration\n",
    "# Models configuration\n",
    "lr = LinearRegression()\n",
    "regr = RandomForestRegressor(n_estimators=300,max_depth=3, random_state=42)\n",
    "gdbc = GradientBoostingRegressor(n_estimators=200, learning_rate=0.1, max_depth=4, random_state=42)\n",
    "\n",
    "train_models(regr, df_process, df_target, 'RF regressor', 0, True)\n",
    "train_models(lr, df_process, df_target, 'Linear regressor', 0, True)\n",
    "train_models(gdbc, df_process, df_target, 'Gradient Boosting...', 0, True)"
   ]
  },
  {
   "cell_type": "code",
   "execution_count": 383,
   "metadata": {},
   "outputs": [
    {
     "name": "stdout",
     "output_type": "stream",
     "text": [
      "RF regressor MAE: 173.8\n",
      "RF regressor MSE: 222875.0 \n",
      "\n",
      "Linear regressor MAE: 318.9\n",
      "Linear regressor MSE: 1275379.5 \n",
      "\n",
      "Linear regressor R2: -3.9 \n",
      "\n",
      "Gradient Boosting... MAE: 172.1\n",
      "Gradient Boosting... MSE: 268830.7 \n",
      "\n"
     ]
    }
   ],
   "source": [
    "# Basic models on the second iteration with polynomial features\n",
    "# Models with polynomial features\n",
    "train_models(regr, df_process, df_target, 'RF regressor', 2)\n",
    "train_models(lr, df_process, df_target, 'Linear regressor', 2)\n",
    "train_models(gdbc, df_process, df_target, 'Gradient Boosting...', 2)"
   ]
  },
  {
   "cell_type": "code",
   "execution_count": 384,
   "metadata": {},
   "outputs": [
    {
     "name": "stdout",
     "output_type": "stream",
     "text": [
      "RF regressor MAE: 163.2\n",
      "RF regressor MSE: 243426.4 \n",
      "\n",
      "Linear regressor MAE: 5309727651110495223872505949948166910509056.0\n",
      "Linear regressor MSE: 26219683187939660734116769537465600096560879071631109737546265513763034669443645863624704.0 \n",
      "\n",
      "Linear regressor R2: -100570316063319253357830889132725153134544645168534605797658416604921507000017223680.0 \n",
      "\n",
      "Gradient Boosting... MAE: 132.4\n",
      "Gradient Boosting... MSE: 220691.1 \n",
      "\n"
     ]
    }
   ],
   "source": [
    "# Basic models on the second iteration with polynomial features\n",
    "# Models with polynomial features\n",
    "train_models(regr, df_process, df_target, 'RF regressor', 2, True)\n",
    "train_models(lr, df_process, df_target, 'Linear regressor', 2, True)\n",
    "train_models(gdbc, df_process, df_target, 'Gradient Boosting...', 2, True)"
   ]
  },
  {
   "cell_type": "markdown",
   "metadata": {},
   "source": [
    "***Conclusiones del análisis***\n",
    "\n",
    "Hasta este punto se ha hecho un análisis básico de tres modelos con métodologias diferentes de optimización cada uno. Hay un largo camino de filtrar y estudiar más a fondo las features generadas y generar una busqueda de parámetros con por ejemplo gridsearch para los algoritmos (excepto el regresor lineal). \n",
    "\n",
    "Si vemos el modelo de regresión lineal, vemos que tiene un r2 solo de 0.2, explicando solo el 20% de la variabilidad de las variable independientea a partir de las variables dependientes. \n",
    "\n",
    "Adicionalmente, la transformación de a variable dependiente se hizo por un tema de heterocedasticidad que faltó comprobar con los residuos de la regresión, pero la mejora de la predicción apoya la hipotesis de que los datos aleatorios sufren de heterocedasticidad por lo cual requieren una transfomación log o con la librería de transformaciones box-cox por lo menos para mejorar las metricas de la regresión. "
   ]
  },
  {
   "cell_type": "markdown",
   "metadata": {},
   "source": [
    "Un tema importante es la evaluación de los modelos de regresión, en este caso se usaron dos metricas; MSE y MAE, dependiendo de la penalidad que se le quiera dar a errores grandes o no, se seleccionará la métrica correspondiente. Bajo el contexto actual, penalizaría los errores grandes a costa un poco del performance de otros errores no tan grandes. "
   ]
  },
  {
   "cell_type": "markdown",
   "metadata": {},
   "source": [
    "***Mejoras a tener en cuenta***"
   ]
  },
  {
   "cell_type": "markdown",
   "metadata": {},
   "source": [
    "- Modelar la busqueda de parámetros con los algoritmos de Random Forest Regressor y de Gradient Boosting Regressor\n",
    "- Mejorar los features a través de la importancia de los arboles y si es necesario un tema de interpretabilidad hacerlo a través de los coeficientes de la regresión lineal\n",
    "- Implementar modelos más complejos como xgboost, lightgbm o redes neuronales simples. \n",
    "- Incluir más datos de mercado libre en los entrenamientos. \n",
    "    \n"
   ]
  }
 ],
 "metadata": {
  "kernelspec": {
   "display_name": "Python 3",
   "language": "python",
   "name": "python3"
  },
  "language_info": {
   "codemirror_mode": {
    "name": "ipython",
    "version": 3
   },
   "file_extension": ".py",
   "mimetype": "text/x-python",
   "name": "python",
   "nbconvert_exporter": "python",
   "pygments_lexer": "ipython3",
   "version": "3.8.5"
  }
 },
 "nbformat": 4,
 "nbformat_minor": 4
}
